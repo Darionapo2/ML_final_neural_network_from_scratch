{
 "cells": [
  {
   "cell_type": "markdown",
   "source": [
    "## Open the test and train datasets"
   ],
   "metadata": {
    "collapsed": false
   }
  },
  {
   "cell_type": "code",
   "execution_count": 10,
   "outputs": [],
   "source": [
    "import numpy as np"
   ],
   "metadata": {
    "collapsed": false
   }
  },
  {
   "cell_type": "code",
   "execution_count": 13,
   "outputs": [
    {
     "name": "stdout",
     "output_type": "stream",
     "text": [
      "266\n"
     ]
    }
   ],
   "source": [
    "with open('datasets/digits/train_digits.dat', 'r+') as train_dataset:\n",
    "    text = train_dataset.read()\n",
    "    lines = text.split('\\n')\n",
    "\n",
    "    data = []\n",
    "    del lines[-1]\n",
    "\n",
    "    for line in lines:\n",
    "        data.append(np.array(line.split(' '), dtype = int))\n",
    "\n",
    "    # print(len(data[1]))"
   ],
   "metadata": {
    "collapsed": false
   }
  },
  {
   "cell_type": "code",
   "execution_count": 11,
   "outputs": [],
   "source": [],
   "metadata": {
    "collapsed": false
   }
  }
 ],
 "metadata": {
  "kernelspec": {
   "display_name": "Python 3",
   "language": "python",
   "name": "python3"
  },
  "language_info": {
   "codemirror_mode": {
    "name": "ipython",
    "version": 2
   },
   "file_extension": ".py",
   "mimetype": "text/x-python",
   "name": "python",
   "nbconvert_exporter": "python",
   "pygments_lexer": "ipython2",
   "version": "2.7.6"
  }
 },
 "nbformat": 4,
 "nbformat_minor": 0
}
